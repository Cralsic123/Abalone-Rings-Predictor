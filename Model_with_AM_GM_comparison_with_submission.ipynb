{
  "nbformat": 4,
  "nbformat_minor": 0,
  "metadata": {
    "colab": {
      "provenance": [],
      "authorship_tag": "ABX9TyNqhB0VySRq6MSiPKu5T9t2",
      "include_colab_link": true
    },
    "kernelspec": {
      "name": "python3",
      "display_name": "Python 3"
    },
    "language_info": {
      "name": "python"
    }
  },
  "cells": [
    {
      "cell_type": "markdown",
      "metadata": {
        "id": "view-in-github",
        "colab_type": "text"
      },
      "source": [
        "<a href=\"https://colab.research.google.com/github/Cralsic123/Abalone-Rings-Predictor/blob/main/Model_with_AM_GM_comparison_with_submission.ipynb\" target=\"_parent\"><img src=\"https://colab.research.google.com/assets/colab-badge.svg\" alt=\"Open In Colab\"/></a>"
      ]
    },
    {
      "cell_type": "code",
      "execution_count": 1,
      "metadata": {
        "id": "fsNQduvl2283"
      },
      "outputs": [],
      "source": [
        "import numpy as np\n",
        "import pandas as pd\n"
      ]
    },
    {
      "cell_type": "code",
      "source": [
        "target=[\"Rings\"]"
      ],
      "metadata": {
        "id": "cwYuJMty4H3z"
      },
      "execution_count": 2,
      "outputs": []
    },
    {
      "cell_type": "code",
      "source": [
        "submission1=pd.read_csv(\"/content/submission (1).csv\")\n",
        "submission2=pd.read_csv(\"/content/submission.csv\")\n",
        "submission3=pd.read_csv(\"/content/submission_AM.csv\")\n",
        "submission4=pd.read_csv(\"/content/submission_fin_1.csv\")\n",
        "\n"
      ],
      "metadata": {
        "id": "yHby8CPY4W7e"
      },
      "execution_count": 4,
      "outputs": []
    },
    {
      "cell_type": "code",
      "source": [
        "\"\"\"\n",
        "Select submissions from different versions of your work or other's predictions. Different frameworks result in better generalization\n",
        "\"\"\"\n",
        "sub_list=[submission1,submission2,submission3, submission4] # list all the results\n",
        "\n",
        "\"\"\"\n",
        "Since there are 7 predictions, I'm assigning a weight 5 for the best three results and 1 each for the others\n",
        "\"\"\"\n",
        "weights=[6,6,6,6,1,1,1]\n",
        "\n",
        "if len(sub_list)==len(weights):\n",
        "    weighted_list = [item for sublist, weight in zip(sub_list, weights) for item in [sublist] * weight]\n",
        ""
      ],
      "metadata": {
        "id": "Gl6Sep3_4aod"
      },
      "execution_count": 6,
      "outputs": []
    },
    {
      "cell_type": "code",
      "source": [],
      "metadata": {
        "id": "SZLUCGkx5N5m"
      },
      "execution_count": null,
      "outputs": []
    }
  ]
}