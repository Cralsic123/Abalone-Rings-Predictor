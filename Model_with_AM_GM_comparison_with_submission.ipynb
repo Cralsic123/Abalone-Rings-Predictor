{
  "nbformat": 4,
  "nbformat_minor": 0,
  "metadata": {
    "colab": {
      "provenance": [],
      "authorship_tag": "ABX9TyMtBRlmzTuFDCS+Q5lGQ9Ie",
      "include_colab_link": true
    },
    "kernelspec": {
      "name": "python3",
      "display_name": "Python 3"
    },
    "language_info": {
      "name": "python"
    }
  },
  "cells": [
    {
      "cell_type": "markdown",
      "metadata": {
        "id": "view-in-github",
        "colab_type": "text"
      },
      "source": [
        "<a href=\"https://colab.research.google.com/github/Cralsic123/Abalone-Rings-Predictor/blob/main/Model_with_AM_GM_comparison_with_submission.ipynb\" target=\"_parent\"><img src=\"https://colab.research.google.com/assets/colab-badge.svg\" alt=\"Open In Colab\"/></a>"
      ]
    },
    {
      "cell_type": "code",
      "execution_count": 1,
      "metadata": {
        "id": "fsNQduvl2283"
      },
      "outputs": [],
      "source": [
        "import numpy as np\n",
        "import pandas as pd\n"
      ]
    },
    {
      "cell_type": "code",
      "source": [
        "target=[\"Rings\"]"
      ],
      "metadata": {
        "id": "cwYuJMty4H3z"
      },
      "execution_count": 2,
      "outputs": []
    },
    {
      "cell_type": "code",
      "source": [
        "submission1=pd.read_csv(\"/content/submission (1).csv\")\n",
        "submission2=pd.read_csv(\"/content/submission.csv\")\n",
        "submission3=pd.read_csv(\"/content/submission_AM.csv\")\n",
        "submission4=pd.read_csv(\"/content/submission_fin_1.csv\")\n",
        "\n"
      ],
      "metadata": {
        "id": "yHby8CPY4W7e"
      },
      "execution_count": 4,
      "outputs": []
    },
    {
      "cell_type": "code",
      "source": [
        "\"\"\"\n",
        "Select submissions from different versions of your work or other's predictions. Different frameworks result in better generalization\n",
        "\"\"\"\n",
        "sub_list=[submission1,submission2,submission3, submission4] # list all the results\n",
        "\n",
        "\"\"\"\n",
        "Since there are 7 predictions, I'm assigning a weight 5 for the best three results and 1 each for the others\n",
        "\"\"\"\n",
        "weights=[6,6,6,6,1,1,1]\n",
        "\n",
        "if len(sub_list)==len(weights):\n",
        "    weighted_list = [item for sublist, weight in zip(sub_list, weights) for item in [sublist] * weight]\n",
        ""
      ],
      "metadata": {
        "id": "Gl6Sep3_4aod"
      },
      "execution_count": 6,
      "outputs": []
    },
    {
      "cell_type": "code",
      "source": [
        "def ensemble_mean(sub_list,cols, mean=\"AM\"):\n",
        "\n",
        "    \"\"\"\n",
        "    The function computes Arithmetic Mean/Geometric Mean/Harmonic Mean given a list of results with specific results.\n",
        "    \"\"\"\n",
        "\n",
        "    sub_out=sub_list[0].copy()\n",
        "    if mean==\"AM\":\n",
        "        for col in cols:\n",
        "            sub_out[col]=sum(df[col] for df in sub_list)/len(sub_list)\n",
        "    elif mean==\"GM\":\n",
        "        for df in sub_list[1:]:\n",
        "            for col in cols:\n",
        "                sub_out[col]*=df[col]\n",
        "        for col in cols:\n",
        "            sub_out[col]=(sub_out[col])**(1/len(sub_list))\n",
        "    elif mean==\"HM\":\n",
        "        for col in cols:\n",
        "            sub_out[col]=len(sub_list)/sum(1/df[col] for df in sub_list)\n",
        "\n",
        "    return sub_out\n",
        "\n",
        "sub_ensemble=ensemble_mean(weighted_list,target,mean=\"HM\")\n",
        "sub_ensemble.head()"
      ],
      "metadata": {
        "colab": {
          "base_uri": "https://localhost:8080/",
          "height": 233
        },
        "id": "SZLUCGkx5N5m",
        "outputId": "2f4fbf47-316d-46e4-9de1-2028b3a8a95e"
      },
      "execution_count": 7,
      "outputs": [
        {
          "output_type": "error",
          "ename": "NameError",
          "evalue": "name 'weighted_list' is not defined",
          "traceback": [
            "\u001b[0;31m---------------------------------------------------------------------------\u001b[0m",
            "\u001b[0;31mNameError\u001b[0m                                 Traceback (most recent call last)",
            "\u001b[0;32m<ipython-input-7-0ff538d12c03>\u001b[0m in \u001b[0;36m<cell line: 23>\u001b[0;34m()\u001b[0m\n\u001b[1;32m     21\u001b[0m     \u001b[0;32mreturn\u001b[0m \u001b[0msub_out\u001b[0m\u001b[0;34m\u001b[0m\u001b[0;34m\u001b[0m\u001b[0m\n\u001b[1;32m     22\u001b[0m \u001b[0;34m\u001b[0m\u001b[0m\n\u001b[0;32m---> 23\u001b[0;31m \u001b[0msub_ensemble\u001b[0m\u001b[0;34m=\u001b[0m\u001b[0mensemble_mean\u001b[0m\u001b[0;34m(\u001b[0m\u001b[0mweighted_list\u001b[0m\u001b[0;34m,\u001b[0m\u001b[0mtarget\u001b[0m\u001b[0;34m,\u001b[0m\u001b[0mmean\u001b[0m\u001b[0;34m=\u001b[0m\u001b[0;34m\"HM\"\u001b[0m\u001b[0;34m)\u001b[0m\u001b[0;34m\u001b[0m\u001b[0;34m\u001b[0m\u001b[0m\n\u001b[0m\u001b[1;32m     24\u001b[0m \u001b[0msub_ensemble\u001b[0m\u001b[0;34m.\u001b[0m\u001b[0mhead\u001b[0m\u001b[0;34m(\u001b[0m\u001b[0;34m)\u001b[0m\u001b[0;34m\u001b[0m\u001b[0;34m\u001b[0m\u001b[0m\n",
            "\u001b[0;31mNameError\u001b[0m: name 'weighted_list' is not defined"
          ]
        }
      ]
    },
    {
      "cell_type": "code",
      "source": [],
      "metadata": {
        "id": "eNMCJ8hy5Uml"
      },
      "execution_count": null,
      "outputs": []
    }
  ]
}